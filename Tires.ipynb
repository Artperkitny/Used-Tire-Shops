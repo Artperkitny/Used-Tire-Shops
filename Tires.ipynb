{
 "cells": [
  {
   "cell_type": "markdown",
   "metadata": {},
   "source": [
    "What are you looking to get out of this data? \n",
    "\n",
    "Part A\n",
    "- My method of using reviews good? Assuming that if not review (and there are atleast 10) that no used tires sold.\n",
    "- No info boolean\n",
    "\n",
    "Part B\n",
    "- Do you want map iamge or browsable map? Will you just be loading this into ArcGIS/ Google Earth? \n",
    "- Both leaflet and kml\n",
    "\n",
    "- What demographic are used tire shops serving ?\n",
    "\n",
    "- Corrolation matrix \n",
    "\n",
    "Part C\n",
    "- By pop density do you mean number of people per store from sample or number of people per all retail stores? Just get gross and pop density \n",
    "- Digital divide index may be hard to get quikly, will need to requet it from a curosry search. May be able to use ACS for this tho USE CENSUS \n",
    "- Other variables?\n",
    "- By shapefiles I assume this is the census tract (or whatever geo area each variable corresponds to) not the stores footprint\n",
    "\n",
    "Part D\n",
    "- Histograms as image or interactive charts?\n",
    "- Y asix num shops\n",
    "- X axis vars from part C\n",
    "\n",
    "- Do leaflet.js and images \n",
    "\n",
    "Part E\n",
    "- Multivariate map is difficult to interpret when >3 variables. I would suggest a map viz with variable selectors and a table for looking \n",
    "at all together. Also map viz using census tracts will be vary to use when zoomed out and stores are rather sparse. \n",
    "\n",
    "- Research google places api for tires stores \n",
    "\n",
    "- Wrtie beifef analysis of finds "
   ]
  },
  {
   "cell_type": "code",
   "execution_count": 2,
   "metadata": {},
   "outputs": [],
   "source": [
    "import pandas as pd\n",
    "from bs4 import BeautifulSoup\n",
    "import requests\n",
    "from splinter import Browser\n",
    "import re\n",
    "from tqdm import tqdm\n",
    "\n",
    "import config as cfg\n",
    "\n",
    "executable_path = {'executable_path': 'chromedriver.exe'}\n",
    "pd.set_option('display.max_rows', 500)"
   ]
  },
  {
   "cell_type": "code",
   "execution_count": 3,
   "metadata": {},
   "outputs": [],
   "source": [
    "url = 'https://www.catiredealers.com/Members/Locations'\n",
    "# headers={\n",
    "#     \"authority\": \"www.catiredealers.com\",\n",
    "#     \"method\": \"GET\",\n",
    "#     \"path\": \"/Members/Locations\",\n",
    "#     \"scheme\": \"http\",\n",
    "#     \"accept\": \"text/html,application/xhtml+xml,application/xml;q=0.9,image/avif,image/webp,image/apng,*/*;q=0.8,application/signed-exchange;v=b3;q=0.9\",\n",
    "#     \"accept-encoding\": \"gzip, deflate, br\",\n",
    "#     \"accept-language\": \"en-US,en;q=0.9,ja;q=0.8,pt;q=0.7\",\n",
    "#     \"cache-control\": \"max-age=0\",\n",
    "#     \"cookie\": \"__cfduid=d4eb66f9debe2ed5126406468f7eb460b1603798162; .ASPXANONYMOUS=zR64xYie0t82KtbYoh3xd4VmwKrdWdvzCeNbx8pcTZGYLaLUizRtSpFfXYXUryVV_N3d6sj_hPaKBy7mHhGiLM0G0nimI6nwVJ9GRAOqH4yUL3qY0; locDistances=; _ga=GA1.2.55266223.1603798175; _gid=GA1.2.1619571755.1603798175; dnn_IsMobile=False; language=en-US; BIGipServernetdriven_SSL_POOL=545722634.47873.0000; _pk_id.967be4f9-5542-48c3-a90b-2b5b7e580f8d.7a3f=ffeb111edeb361ce.1603798176.3.1603893382.1603893382.; _pk_ses.967be4f9-5542-48c3-a90b-2b5b7e580f8d.7a3f=*\",\n",
    "#     \"sec-fetch-dest\": \"document\",\n",
    "#     \"sec-fetch-mode\": \"navigate\",\n",
    "#     \"sec-fetch-site\": \"none\",\n",
    "#     \"Sec-Fetch-User\": \"?1\",\n",
    "#     \"user-agent\": \"Mozilla/5.0 (Windows NT 10.0; Win64; x64) AppleWebKit/537.36 (KHTML, like Gecko) Chrome/84.0.4147.135 Safari/537.36\",\n",
    "# }\n",
    "# response = requests.get(url, headers=headers)\n",
    "# soup = BeautifulSoup(response.text, 'html.parser')\n",
    "browser = Browser('chrome', **executable_path, headless=False)\n",
    "browser.visit(url)\n",
    "html = browser.html\n",
    "soup = BeautifulSoup(html, 'html.parser')\n",
    "browser.quit()\n",
    "locations = soup.find(\"div\", id=\"LocationListView\")"
   ]
  },
  {
   "cell_type": "code",
   "execution_count": 69,
   "metadata": {},
   "outputs": [],
   "source": [
    "df = pd.DataFrame(columns=[\"name\", \"address\", \"phone_number\"])\n",
    "\n",
    "for location in locations.find_all(\"div\", id=re.compile(\"loc(.*)\")):\n",
    "    info = location.find(\"div\", class_=\"locationInfo\")\n",
    "    name = info.find(\"strong\").text\n",
    "    addr_1 = str(info).split(\"<br/>\")[2].strip()\n",
    "    addr_2 = str(info).split(\"<br/>\")[3].strip().replace(\"</div>\",\"\")\n",
    "    addr = addr_1+\" \"+addr_2\n",
    "    addr = \" \".join(addr.strip().replace(\"\\n\",\"\").split())\n",
    "    try:\n",
    "        phone_number = \"\".join(filter(str.isdigit, location.find(\"div\", class_=\"locphone\").find(\"a\").text))\n",
    "    except Exception as e:\n",
    "#         print(e)\n",
    "        phone_number = None\n",
    "    \n",
    "    df = df.append({\"name\":name, \"address\": addr, \"phone_number\": phone_number}, ignore_index=True)\n",
    "        "
   ]
  },
  {
   "cell_type": "code",
   "execution_count": 73,
   "metadata": {},
   "outputs": [],
   "source": [
    "def get_meta_data(address):\n",
    "    target_url = f'https://maps.googleapis.com/maps/api/geocode/json?address={address}&key={cfg.GKEY}'\n",
    "    target_url = target_url.replace(\"#\",\"\")\n",
    "    geo_data = requests.get(target_url).json()\n",
    "\n",
    "    lat = geo_data['results'][0]['geometry']['location']['lat']\n",
    "    lng = geo_data['results'][0]['geometry']['location']['lng']\n",
    "\n",
    "    address_list = []\n",
    "    city = ''\n",
    "    state = ''\n",
    "    \n",
    "    if geo_data['status']=='ZERO_RESULTS':\n",
    "        return None\n",
    "    \n",
    "    for item in geo_data['results'][0]['address_components']:\n",
    "        if 'street_number' in item['types']:\n",
    "            address_list.append(item['long_name'])\n",
    "\n",
    "        if 'route' in item['types']:\n",
    "            address_list.append(item['long_name'])\n",
    "\n",
    "        if 'locality' in item['types']:\n",
    "            city = item['long_name']\n",
    "\n",
    "        if 'administrative_area_level_1' in item['types']:\n",
    "            state = item['long_name']\n",
    "\n",
    "    street = ' '.join(address_list).strip()\n",
    "    # print(street, city, state)\n",
    "\n",
    "    benchmark = \"Public_AR_ACS2019\"\n",
    "    vintage = \"ACS2019_ACS2019\"\n",
    "    layers = 8\n",
    "\n",
    "    url = f'https://geocoding.geo.census.gov/geocoder/geographies/address?street=\\\n",
    "                {street}&city={city}&state={state}&benchmark={benchmark}&vintage={vintage}&layers={layers}&format=json'\n",
    "    response = requests.get(url)\n",
    "    geo_id_dict = response.json()\n",
    "\n",
    "    try:\n",
    "        tract = geo_id_dict['result']['addressMatches'][0]['geographies']['Census Tracts'][0]['TRACT']\n",
    "        state = geo_id_dict['result']['addressMatches'][0]['geographies']['Census Tracts'][0]['STATE']\n",
    "        county = geo_id_dict['result']['addressMatches'][0]['geographies']['Census Tracts'][0]['COUNTY']\n",
    "        geo_id = state+county+tract\n",
    "    except:\n",
    "        geo_id = None\n",
    "    \n",
    "    return lat, lng, geo_id\n",
    "    "
   ]
  },
  {
   "cell_type": "code",
   "execution_count": 77,
   "metadata": {},
   "outputs": [
    {
     "name": "stderr",
     "output_type": "stream",
     "text": [
      "127it [04:30,  2.13s/it]\n"
     ]
    }
   ],
   "source": [
    "df['lat'] = None\n",
    "df['lng'] = None\n",
    "df['geo_id'] = None\n",
    "\n",
    "for n, row in tqdm(df.iterrows()):\n",
    "    lat, lng, geo_id = get_meta_data(row.address)\n",
    "    df.loc[n, \"lat\"] = lat\n",
    "    df.loc[n, \"lng\"] = lng\n",
    "    df.loc[n, \"geo_id\"] = geo_id"
   ]
  },
  {
   "cell_type": "code",
   "execution_count": 76,
   "metadata": {},
   "outputs": [],
   "source": [
    "df.to_csv(\"locations.csv\")"
   ]
  },
  {
   "cell_type": "code",
   "execution_count": null,
   "metadata": {},
   "outputs": [],
   "source": [
    "for i in df.lng:\n",
    "    print(i)"
   ]
  },
  {
   "cell_type": "code",
   "execution_count": 9,
   "metadata": {},
   "outputs": [],
   "source": [
    "import geopandas as gp\n",
    "from shapely.geometry import Point"
   ]
  },
  {
   "cell_type": "code",
   "execution_count": 70,
   "metadata": {},
   "outputs": [],
   "source": [
    "df = pd.read_csv(\"Tire Shops - Locations.csv\")\n",
    "df = df.loc[df['Exclude']==False]\n",
    "df.drop('Exclude', axis=1, inplace=True)\n",
    "df['phone_number'] = df.phone_number.apply(lambda x: phonenumbers.format_number(phonenumbers.parse(str(x), 'US'), phonenumbers.PhoneNumberFormat.NATIONAL))\n",
    "df.to_csv('tire_shops.csv', index=False)\n",
    "df['Sells Used Tires?'] = df['Sells Used Tires?'].apply(lambda x: 1 if x else 0)\n",
    "gdf = gp.GeoDataFrame(df, crs=\"EPSG:4326\", geometry=[Point(x,y) for x,y in zip(df.lng,df.lat)])"
   ]
  },
  {
   "cell_type": "code",
   "execution_count": 71,
   "metadata": {},
   "outputs": [
    {
     "name": "stderr",
     "output_type": "stream",
     "text": [
      "c:\\users\\art perkitny\\anaconda3\\lib\\site-packages\\geopandas\\io\\file.py:108: FionaDeprecationWarning: Use fiona.Env() instead.\n",
      "  with fiona.drivers():\n"
     ]
    }
   ],
   "source": [
    "import fiona\n",
    "fiona.supported_drivers['KML'] = 'rw'\n",
    "gdf.to_file('tire_shops.kml', driver='KML')"
   ]
  },
  {
   "cell_type": "code",
   "execution_count": 72,
   "metadata": {},
   "outputs": [
    {
     "name": "stderr",
     "output_type": "stream",
     "text": [
      "c:\\users\\art perkitny\\anaconda3\\lib\\site-packages\\geopandas\\io\\file.py:108: FionaDeprecationWarning: Use fiona.Env() instead.\n",
      "  with fiona.drivers():\n"
     ]
    }
   ],
   "source": [
    "gdf.to_file('tire_shops.shp')"
   ]
  },
  {
   "cell_type": "code",
   "execution_count": null,
   "metadata": {},
   "outputs": [],
   "source": []
  }
 ],
 "metadata": {
  "kernelspec": {
   "display_name": "Python 3",
   "language": "python",
   "name": "python3"
  },
  "language_info": {
   "codemirror_mode": {
    "name": "ipython",
    "version": 3
   },
   "file_extension": ".py",
   "mimetype": "text/x-python",
   "name": "python",
   "nbconvert_exporter": "python",
   "pygments_lexer": "ipython3",
   "version": "3.6.7"
  }
 },
 "nbformat": 4,
 "nbformat_minor": 4
}
